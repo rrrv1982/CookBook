{
 "cells": [
  {
   "cell_type": "markdown",
   "metadata": {},
   "source": [
    "# Métodos  Clúster usados en Word2Vec y TF-IDF\n",
    "\n",
    "Con la base de Noticias que construimos visualizaremos los diferentes clúster que se pueden generar. \n",
    "\n",
    "¿Qué tan conveniente es usar un CBOW frente a un BOW en la primera exploración?\n",
    "\n",
    "**TF-IDF** es una medida numérica que expresa la importancia relativa de un término en el documento y en todo el corpus.\n",
    "\n",
    "$$TFIDF(t,d)=TF(t,d)\\times \\log\\left(\\cfrac{N}{DF(t)}\\right)$$"
   ]
  },
  {
   "cell_type": "code",
   "execution_count": null,
   "metadata": {},
   "outputs": [],
   "source": [
    "import pandas as pd \n",
    "Noticias=pd.read_excel(\"Noticias.xlsx\",index_col=0)\n",
    "Noticias"
   ]
  },
  {
   "cell_type": "code",
   "execution_count": null,
   "metadata": {},
   "outputs": [],
   "source": [
    "import re \n",
    "import nltk\n",
    "nltk.download('stopwords')\n",
    "from nltk.corpus import stopwords\n",
    "stopwords=set(stopwords.words('spanish'))\n",
    "from gensim.test.utils import common_texts, get_tmpfile\n",
    "from gensim.models import Word2Vec\n"
   ]
  },
  {
   "cell_type": "code",
   "execution_count": null,
   "metadata": {},
   "outputs": [],
   "source": [
    "Noticias2=[]\n",
    "try:\n",
    "    for i in Noticias[\"contenido\"]:\n",
    "        Noticias2.append(re.sub( \"[^A-Za-zóáéíúÁÉÍÓÚüÜñ.]+\",' ',i)) \n",
    "except Exception:\n",
    "    pass"
   ]
  },
  {
   "cell_type": "code",
   "execution_count": null,
   "metadata": {},
   "outputs": [],
   "source": [
    "Noticiasinparada=[]\n",
    "for i in range(len(Noticias2)):\n",
    "    Noticiasinparada.append([j.lower() for j in Noticias2[i].split() if not j.lower() in stopwords])"
   ]
  },
  {
   "cell_type": "code",
   "execution_count": null,
   "metadata": {},
   "outputs": [],
   "source": [
    "from sklearn.cluster import KMeans\n",
    "import numpy as np\n",
    "model = Word2Vec(Noticiasinparada, size=100, window=10, min_count=1, workers=4)\n",
    "model.save(\"word2vec.model\")\n",
    "word_vectors = np.array([model.wv[w] for w in model.wv.vocab])\n",
    "true_k = 10\n",
    "kmeans = KMeans(n_clusters=true_k, init='k-means++', max_iter=100, n_init=1)\n",
    "kmeans.fit(word_vectors)"
   ]
  },
  {
   "cell_type": "code",
   "execution_count": null,
   "metadata": {},
   "outputs": [],
   "source": [
    "model.wv.vocab[\"hola\"].count"
   ]
  },
  {
   "cell_type": "code",
   "execution_count": null,
   "metadata": {},
   "outputs": [],
   "source": [
    "y=kmeans.fit_predict(word_vectors)"
   ]
  },
  {
   "cell_type": "code",
   "execution_count": null,
   "metadata": {},
   "outputs": [],
   "source": [
    "lista=list(model.wv.vocab.keys())\n",
    "palabras=[lista[int(ind)]  for ind in np.where(y==0)[0]]\n",
    "conteodepalabras=[int(model.wv.vocab[i].count) for i in palabras]\n",
    "masfrecuentes_ind=[np.where((-np.array(conteodepalabras)).argsort()==lm)[0][0] for lm in range(15)]\n",
    "masfrecuentesenelcluster=[palabras[l] for l in masfrecuentes_ind]"
   ]
  },
  {
   "cell_type": "code",
   "execution_count": null,
   "metadata": {},
   "outputs": [],
   "source": [
    "order_centroids = kmeans.cluster_centers_\n",
    "topcluster=[]\n",
    "for j in range(true_k):\n",
    "    lista=list(model.wv.vocab.keys())\n",
    "    palabras=[lista[int(ind)]  for ind in np.where(y==j)[0]]\n",
    "    conteodepalabras=[int(model.wv.vocab[i].count) for i in palabras]\n",
    "    masfrecuentes_ind=[np.where((-np.array(conteodepalabras)).argsort()==lm)[0][0] for lm in range(15)]\n",
    "    masfrecuentesenelcluster=[palabras[l] for l in masfrecuentes_ind]\n",
    "    topcluster.append(masfrecuentesenelcluster)\n",
    "    \n",
    "for i in range(true_k):\n",
    "    print(\"Cluster %d:\" % i),\n",
    "    for ind in range(10):\n",
    "        print(\" %s\" % topcluster[i][ind])"
   ]
  },
  {
   "cell_type": "code",
   "execution_count": null,
   "metadata": {},
   "outputs": [],
   "source": [
    "Noticiasinparada2=[' '.join(i) for i in Noticiasinparada]"
   ]
  },
  {
   "cell_type": "code",
   "execution_count": null,
   "metadata": {},
   "outputs": [],
   "source": [
    "vectorizer = TfidfVectorizer()\n",
    "X = vectorizer.fit_transform(Noticiasinparada2)"
   ]
  },
  {
   "cell_type": "code",
   "execution_count": null,
   "metadata": {},
   "outputs": [],
   "source": [
    "modelTFI = KMeans(n_clusters=true_k, init='k-means++', max_iter=100, n_init=1)\n",
    "modelTFI.fit(X)"
   ]
  },
  {
   "cell_type": "code",
   "execution_count": null,
   "metadata": {},
   "outputs": [],
   "source": [
    "order_centroids = modelTFI.cluster_centers_.argsort()[:, ::-1]\n",
    "terms = vectorizer.get_feature_names()"
   ]
  },
  {
   "cell_type": "code",
   "execution_count": null,
   "metadata": {},
   "outputs": [],
   "source": [
    "for i in range(true_k):\n",
    "    print(\"Cluster %d:\" % i),\n",
    "    for ind in order_centroids[i, :10]:\n",
    "        print(\" %s\" % terms[ind])"
   ]
  }
 ],
 "metadata": {
  "author": "\\end{equation",
  "kernelspec": {
   "display_name": "Python 3",
   "language": "python",
   "name": "python3"
  },
  "language_info": {
   "codemirror_mode": {
    "name": "ipython",
    "version": 3
   },
   "file_extension": ".py",
   "mimetype": "text/x-python",
   "name": "python",
   "nbconvert_exporter": "python",
   "pygments_lexer": "ipython3",
   "version": "3.7.4"
  },
  "latex_envs": {
   "LaTeX_envs_menu_present": true,
   "autoclose": false,
   "autocomplete": true,
   "bibliofile": "biblio.bib",
   "cite_by": "apalike",
   "current_citInitial": 1,
   "eqLabelWithNumbers": true,
   "eqNumInitial": 1,
   "hotkeys": {
    "equation": "Ctrl-E",
    "itemize": "Ctrl-I"
   },
   "labels_anchors": false,
   "latex_user_defs": false,
   "report_style_numbering": false,
   "user_envs_cfg": false
  },
  "toc": {
   "base_numbering": 1,
   "nav_menu": {},
   "number_sections": false,
   "sideBar": true,
   "skip_h1_title": false,
   "title_cell": "Table of Contents",
   "title_sidebar": "Contents",
   "toc_cell": false,
   "toc_position": {},
   "toc_section_display": true,
   "toc_window_display": false
  }
 },
 "nbformat": 4,
 "nbformat_minor": 2
}
